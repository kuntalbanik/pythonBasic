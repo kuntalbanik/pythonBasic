{
 "cells": [
  {
   "cell_type": "code",
   "execution_count": 4,
   "id": "fc947420-c3d3-4599-9f06-70b277a89ec8",
   "metadata": {},
   "outputs": [
    {
     "name": "stdout",
     "output_type": "stream",
     "text": [
      "Hello Python!\n"
     ]
    }
   ],
   "source": [
    "print(\"Hello Python!\")"
   ]
  },
  {
   "cell_type": "code",
   "execution_count": 7,
   "id": "c2877151-1667-46e0-887a-b96a5864d630",
   "metadata": {},
   "outputs": [
    {
     "name": "stdout",
     "output_type": "stream",
     "text": [
      "{'rahim': 3, 'karim': 2, 'naim': 1}\n"
     ]
    }
   ],
   "source": [
    "# 🔹 Challenge 7: (Advanced)\n",
    "# Given a list of names, count how many times each name appears using a dictionary.\n",
    "names = [\"rahim\", \"karim\", \"rahim\", \"naim\", \"karim\", \"rahim\"]\n",
    "name_counts = {}\n",
    "for name in names:\n",
    "    if name not in name_counts:\n",
    "        name_counts[name] = 1\n",
    "    else:\n",
    "        name_counts[name] += 1\n",
    "\n",
    "print(name_counts)"
   ]
  },
  {
   "cell_type": "code",
   "execution_count": 11,
   "id": "cf56721f-9317-4463-8f88-53e4ebca91af",
   "metadata": {},
   "outputs": [],
   "source": [
    "# 🔍 Structure:\n",
    "# 👉 এখানে students হলো একটি list, যার প্রতিটি item হলো একটি dictionary।\n",
    "\n",
    "students = [\n",
    "    {\"name\": \"Rahim\", \"age\": 18},\n",
    "    {\"name\": \"Karim\", \"age\": 20},\n",
    "    {\"name\": \"Nusrat\", \"age\": 19}\n",
    "]"
   ]
  },
  {
   "cell_type": "code",
   "execution_count": null,
   "id": "29b65800-ea47-4eba-8e19-47211ab1fad5",
   "metadata": {},
   "outputs": [],
   "source": [
    "# 🔹 Challenge 1: (Basic)\n",
    "# Print the name of each student from the list.\n",
    "\n",
    "    "
   ]
  }
 ],
 "metadata": {
  "kernelspec": {
   "display_name": "Python 3 (ipykernel)",
   "language": "python",
   "name": "python3"
  },
  "language_info": {
   "codemirror_mode": {
    "name": "ipython",
    "version": 3
   },
   "file_extension": ".py",
   "mimetype": "text/x-python",
   "name": "python",
   "nbconvert_exporter": "python",
   "pygments_lexer": "ipython3",
   "version": "3.11.9"
  }
 },
 "nbformat": 4,
 "nbformat_minor": 5
}
